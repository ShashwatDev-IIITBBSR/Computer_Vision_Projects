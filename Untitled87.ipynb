{
  "nbformat": 4,
  "nbformat_minor": 0,
  "metadata": {
    "colab": {
      "provenance": [],
      "authorship_tag": "ABX9TyMLxvFcSUrJAkkyI04Im7vs",
      "include_colab_link": true
    },
    "kernelspec": {
      "name": "python3",
      "display_name": "Python 3"
    },
    "language_info": {
      "name": "python"
    }
  },
  "cells": [
    {
      "cell_type": "markdown",
      "metadata": {
        "id": "view-in-github",
        "colab_type": "text"
      },
      "source": [
        "<a href=\"https://colab.research.google.com/github/ShashwatDev-IIITBBSR/Computer_Vision_Projects/blob/main/Untitled87.ipynb\" target=\"_parent\"><img src=\"https://colab.research.google.com/assets/colab-badge.svg\" alt=\"Open In Colab\"/></a>"
      ]
    },
    {
      "cell_type": "code",
      "execution_count": null,
      "metadata": {
        "id": "93ectYsvLt7Y"
      },
      "outputs": [],
      "source": [
        "import cv2\n",
        "from cvzone.HandTrackingModule import HandDetector"
      ]
    },
    {
      "cell_type": "code",
      "source": [
        "from time import sleep\n",
        "import numpy as np\n",
        "import cvzone\n",
        "from pynput.keyboard import Controller"
      ],
      "metadata": {
        "id": "Y9l3oMtKLyno"
      },
      "execution_count": null,
      "outputs": []
    },
    {
      "cell_type": "code",
      "source": [
        "cap = cv2.VideoCapture(0)\n",
        "cap.set(3, 1280)\n",
        "cap.set(4, 720)\n",
        "\n",
        "detector = HandDetector(detectionCon=0.8)\n",
        "keys = [[\"Q\", \"W\", \"E\", \"R\", \"T\", \"Y\", \"U\", \"I\", \"O\", \"P\"],\n",
        "        [\"A\", \"S\", \"D\", \"F\", \"G\", \"H\", \"J\", \"K\", \"L\", \";\"],\n",
        "        [\"Z\", \"X\", \"C\", \"V\", \"B\", \"N\", \"M\", \",\", \".\", \"/\"]]\n",
        "finalText = \"\"\n",
        "\n",
        "keyboard = Controller()"
      ],
      "metadata": {
        "id": "ajmOkfu-L2c5"
      },
      "execution_count": null,
      "outputs": []
    },
    {
      "cell_type": "code",
      "source": [
        "def drawAll(img, buttonList):\n",
        "    for button in buttonList:\n",
        "        x, y = button.pos\n",
        "        w, h = button.size\n",
        "        cvzone.cornerRect(img, (button.pos[0], button.pos[1], button.size[0], button.size[1]),\n",
        "                          20, rt=0)\n",
        "        cv2.rectangle(img, button.pos, (x + w, y + h), (255, 0, 255), cv2.FILLED)\n",
        "        cv2.putText(img, button.text, (x + 20, y + 65),\n",
        "                    cv2.FONT_HERSHEY_PLAIN, 4, (255, 255, 255), 4)\n",
        "    return img"
      ],
      "metadata": {
        "id": "K6aVofq_L5qs"
      },
      "execution_count": 3,
      "outputs": []
    },
    {
      "cell_type": "code",
      "source": [
        "class Button():\n",
        "    def __init__(self, pos, text, size=[85, 85]):\n",
        "        self.pos = pos\n",
        "        self.size = size\n",
        "        self.text = text"
      ],
      "metadata": {
        "id": "6vla5U8CL8O3"
      },
      "execution_count": 4,
      "outputs": []
    },
    {
      "cell_type": "code",
      "source": [
        "buttonList = []\n",
        "for i in range(len(keys)):\n",
        "    for j, key in enumerate(keys[i]):\n",
        "        buttonList.append(Button([100 * j + 50, 100 * i + 50], key))"
      ],
      "metadata": {
        "id": "QwI9fayAMFdf"
      },
      "execution_count": null,
      "outputs": []
    },
    {
      "cell_type": "code",
      "source": [
        "while True:\n",
        "    success, img = cap.read()\n",
        "    img = detector.findHands(img)\n",
        "    lmList, bboxInfo = detector.findPosition(img)\n",
        "    img = drawAll(img, buttonList)\n",
        "\n",
        "    if lmList:\n",
        "        for button in buttonList:\n",
        "            x, y = button.pos\n",
        "            w, h = button.size\n",
        "\n",
        "            if x < lmList[8][0] < x + w and y < lmList[8][1] < y + h:\n",
        "                cv2.rectangle(img, (x - 5, y - 5), (x + w + 5, y + h + 5), (175, 0, 175), cv2.FILLED)\n",
        "                cv2.putText(img, button.text, (x + 20, y + 65),\n",
        "                            cv2.FONT_HERSHEY_PLAIN, 4, (255, 255, 255), 4)\n",
        "                l, _, _ = detector.findDistance(8, 12, img, draw=False)\n",
        "                print(l)\n",
        "\n",
        "                ## when clicked\n",
        "                if l < 30:\n",
        "                    keyboard.press(button.text)\n",
        "                    cv2.rectangle(img, button.pos, (x + w, y + h), (0, 255, 0), cv2.FILLED)\n",
        "                    cv2.putText(img, button.text, (x + 20, y + 65),\n",
        "                                cv2.FONT_HERSHEY_PLAIN, 4, (255, 255, 255), 4)\n",
        "                    finalText += button.text\n",
        "                    sleep(0.15)\n",
        "\n",
        "    cv2.rectangle(img, (50, 350), (700, 450), (175, 0, 175), cv2.FILLED)\n",
        "    cv2.putText(img, finalText, (60, 430),\n",
        "                cv2.FONT_HERSHEY_PLAIN, 5, (255, 255, 255), 5)\n",
        "\n",
        "    cv2.imshow(\"Image\", img)\n",
        "    cv2.waitKey(1)"
      ],
      "metadata": {
        "id": "Zu_e-PJYMF-D"
      },
      "execution_count": null,
      "outputs": []
    }
  ]
}