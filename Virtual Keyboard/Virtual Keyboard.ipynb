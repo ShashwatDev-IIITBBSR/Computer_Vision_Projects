{
 "cells": [
  {
   "cell_type": "code",
   "execution_count": 1,
   "metadata": {},
   "outputs": [],
   "source": [
    "import cv2\n",
    "from cvzone.HandTrackingModule import HandDetector"
   ]
  },
  {
   "cell_type": "code",
   "execution_count": 2,
   "metadata": {},
   "outputs": [],
   "source": [
    "from time import sleep\n",
    "import numpy as np\n",
    "import cvzone\n",
    "#import Controller\n",
    "from pynput.keyboard import Controller\n",
    "#from pynput.keyboard import Controller"
   ]
  },
  {
   "cell_type": "code",
   "execution_count": 3,
   "metadata": {},
   "outputs": [],
   "source": [
    "cap = cv2.VideoCapture(0)\n",
    "#cap=cv2.flip(cap,1)\n",
    "cap.set(3, 1280)\n",
    "cap.set(4, 720)\n",
    "\n",
    "detector = HandDetector(detectionCon=0.8)\n",
    "keys = [[\"Q\", \"W\", \"E\", \"R\", \"T\", \"Y\", \"U\", \"I\", \"O\", \"P\"],\n",
    "        [\"A\", \"S\", \"D\", \"F\", \"G\", \"H\", \"J\", \"K\", \"L\", \";\"],\n",
    "        [\"Z\", \"X\", \"C\", \"V\", \"B\", \"N\", \"M\", \",\", \".\", \"/\"]]\n",
    "finalText = \"\"\n",
    "\n",
    "keyboard = Controller()"
   ]
  },
  {
   "cell_type": "code",
   "execution_count": 4,
   "metadata": {},
   "outputs": [],
   "source": [
    "def drawAll(img, buttonList):\n",
    "    for button in buttonList:\n",
    "        x, y = button.pos\n",
    "        w, h = button.size\n",
    "        cvzone.cornerRect(img, (button.pos[0], button.pos[1], button.size[0], button.size[1]),\n",
    "                          20, rt=0)\n",
    "        cv2.rectangle(img, button.pos, (x + w, y + h), (255, 0, 255), cv2.FILLED)\n",
    "        cv2.putText(img, button.text, (x + 20, y + 65),\n",
    "                    cv2.FONT_HERSHEY_PLAIN, 4, (255, 255, 255), 4)\n",
    "    return img"
   ]
  },
  {
   "cell_type": "code",
   "execution_count": 5,
   "metadata": {},
   "outputs": [],
   "source": [
    "class Button():\n",
    "    def __init__(self, pos, text, size=[85, 85]):\n",
    "        self.pos = pos\n",
    "        self.size = size\n",
    "        self.text = text\n"
   ]
  },
  {
   "cell_type": "code",
   "execution_count": 6,
   "metadata": {},
   "outputs": [],
   "source": [
    "buttonList = []\n",
    "for i in range(len(keys)):\n",
    "    for j, key in enumerate(keys[i]):\n",
    "        buttonList.append(Button([100 * j + 50, 100 * i + 50], key))"
   ]
  },
  {
   "cell_type": "code",
   "execution_count": 7,
   "metadata": {},
   "outputs": [
    {
     "name": "stdout",
     "output_type": "stream",
     "text": [
      "71.16881339463234\n",
      "67.06713054842886\n",
      "76.6550715869472\n",
      "79.83107164506812\n",
      "80.049984384758\n",
      "91.54780172128656\n",
      "71.00704190430693\n",
      "56.0357029044876\n",
      "41.23105625617661\n",
      "40.459856648287825\n",
      "50.44799302251775\n",
      "53.665631459994955\n",
      "53.53503525729669\n",
      "40.85339643163099\n",
      "42.720018726587654\n",
      "48.33218389437828\n",
      "47.4236228055175\n",
      "46.1410879802373\n",
      "55.94640292279746\n",
      "87.0\n",
      "94.92101980067429\n",
      "67.72001181334805\n",
      "69.26037828369117\n",
      "73.38937252763509\n",
      "58.189346103904626\n",
      "60.40695324215582\n",
      "148.06079832285116\n",
      "148.00337833982033\n",
      "69.83552104767314\n",
      "47.75981574503821\n",
      "46.61544808322665\n",
      "50.08991914547277\n",
      "46.6476151587624\n",
      "64.4980619863884\n",
      "69.06518659932803\n",
      "65.0\n",
      "63.25345840347387\n",
      "57.384666941614284\n",
      "70.45565981523414\n",
      "198.6353442869622\n",
      "67.11929677819934\n",
      "40.36087214122114\n",
      "27.202941017470888\n",
      "15.524174696260024\n",
      "16.970562748477143\n",
      "17.804493814764854\n",
      "19.79898987322333\n"
     ]
    }
   ],
   "source": [
    "while True:\n",
    "    success, img = cap.read()\n",
    "    img = detector.findHands(img)\n",
    "    lmList, bboxInfo = detector.findPosition(img)\n",
    "    img = drawAll(img, buttonList)\n",
    "\n",
    "    if lmList:\n",
    "        for button in buttonList:\n",
    "            x, y = button.pos\n",
    "            w, h = button.size\n",
    "\n",
    "            if x < lmList[8][0] < x + w and y < lmList[8][1] < y + h:\n",
    "                cv2.rectangle(img, (x - 5, y - 5), (x + w + 5, y + h + 5), (175, 0, 175), cv2.FILLED)\n",
    "                cv2.putText(img, button.text, (x + 20, y + 65),\n",
    "                            cv2.FONT_HERSHEY_PLAIN, 4, (255, 255, 255), 4)\n",
    "                l, _, _ = detector.findDistance(8, 12, img, draw=False)\n",
    "                print(l)\n",
    "\n",
    "                ## when clicked\n",
    "                if l < 30:\n",
    "                    keyboard.press(button.text)\n",
    "                    cv2.rectangle(img, button.pos, (x + w, y + h), (0, 255, 0), cv2.FILLED)\n",
    "                    cv2.putText(img, button.text, (x + 20, y + 65),\n",
    "                                cv2.FONT_HERSHEY_PLAIN, 4, (255, 255, 255), 4)\n",
    "                    finalText += button.text\n",
    "                    sleep(0.15)\n",
    "\n",
    "    cv2.rectangle(img, (50, 350), (700, 450), (175, 0, 175), cv2.FILLED)\n",
    "    cv2.putText(img, finalText, (60, 430),\n",
    "                cv2.FONT_HERSHEY_PLAIN, 5, (255, 255, 255), 5)\n",
    "\n",
    "    cv2.imshow(\"Image\", img)\n",
    "    cv2.waitKey(1)"
   ]
  }
 ],
 "metadata": {
  "kernelspec": {
   "display_name": "Python 3.9.6 64-bit",
   "language": "python",
   "name": "python3"
  },
  "language_info": {
   "codemirror_mode": {
    "name": "ipython",
    "version": 3
   },
   "file_extension": ".py",
   "mimetype": "text/x-python",
   "name": "python",
   "nbconvert_exporter": "python",
   "pygments_lexer": "ipython3",
   "version": "3.9.6"
  },
  "orig_nbformat": 4,
  "vscode": {
   "interpreter": {
    "hash": "cbc5014ed32a3511c99c810aecedbd8e5a5c878610fa20b4667810c497ccaeea"
   }
  }
 },
 "nbformat": 4,
 "nbformat_minor": 2
}
