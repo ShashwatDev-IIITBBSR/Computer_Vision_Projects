{
 "cells": [
  {
   "cell_type": "code",
   "execution_count": 1,
   "metadata": {},
   "outputs": [
    {
     "name": "stdout",
     "output_type": "stream",
     "text": [
      "Note: you may need to restart the kernel to use updated packages.\n"
     ]
    },
    {
     "name": "stderr",
     "output_type": "stream",
     "text": [
      "The filename, directory name, or volume label syntax is incorrect.\n"
     ]
    }
   ],
   "source": [
    "%pip install pynput"
   ]
  },
  {
   "cell_type": "code",
   "execution_count": 2,
   "metadata": {},
   "outputs": [
    {
     "name": "stdout",
     "output_type": "stream",
     "text": [
      "Note: you may need to restart the kernel to use updated packages.\n"
     ]
    },
    {
     "name": "stderr",
     "output_type": "stream",
     "text": [
      "The filename, directory name, or volume label syntax is incorrect.\n"
     ]
    }
   ],
   "source": [
    "%pip install ruamel"
   ]
  },
  {
   "cell_type": "code",
   "execution_count": 3,
   "metadata": {},
   "outputs": [
    {
     "name": "stderr",
     "output_type": "stream",
     "text": [
      "The filename, directory name, or volume label syntax is incorrect."
     ]
    },
    {
     "name": "stdout",
     "output_type": "stream",
     "text": [
      "Note: you may need to restart the kernel to use updated packages.\n"
     ]
    },
    {
     "name": "stderr",
     "output_type": "stream",
     "text": [
      "\n"
     ]
    }
   ],
   "source": [
    "%pip install cvzone"
   ]
  },
  {
   "cell_type": "code",
   "execution_count": 4,
   "metadata": {},
   "outputs": [
    {
     "name": "stdout",
     "output_type": "stream",
     "text": [
      "Note: you may need to restart the kernel to use updated packages.\n"
     ]
    },
    {
     "name": "stderr",
     "output_type": "stream",
     "text": [
      "The filename, directory name, or volume label syntax is incorrect.\n"
     ]
    }
   ],
   "source": [
    "%pip install HandTrackingModule"
   ]
  },
  {
   "cell_type": "code",
   "execution_count": 5,
   "metadata": {},
   "outputs": [
    {
     "name": "stdout",
     "output_type": "stream",
     "text": [
      "Note: you may need to restart the kernel to use updated packages.\n"
     ]
    },
    {
     "name": "stderr",
     "output_type": "stream",
     "text": [
      "The filename, directory name, or volume label syntax is incorrect.\n"
     ]
    }
   ],
   "source": [
    "%pip install Controller"
   ]
  },
  {
   "cell_type": "code",
   "execution_count": 1,
   "metadata": {},
   "outputs": [],
   "source": [
    "import cv2\n",
    "from cvzone.HandTrackingModule import HandDetector"
   ]
  },
  {
   "cell_type": "code",
   "execution_count": 2,
   "metadata": {},
   "outputs": [],
   "source": [
    "from time import sleep\n",
    "import numpy as np\n",
    "import cvzone\n",
    "#import Controller\n",
    "from pynput.keyboard import Controller\n",
    "#from pynput.keyboard import Controller"
   ]
  },
  {
   "cell_type": "code",
   "execution_count": 3,
   "metadata": {},
   "outputs": [],
   "source": [
    "cap = cv2.VideoCapture(0)\n",
    "#cap=cv2.flip(cap,1)\n",
    "cap.set(3, 1280)\n",
    "cap.set(4, 720)\n",
    "\n",
    "detector = HandDetector(detectionCon=0.8)\n",
    "keys = [[\"Q\", \"W\", \"E\", \"R\", \"T\", \"Y\", \"U\", \"I\", \"O\", \"P\"],\n",
    "        [\"A\", \"S\", \"D\", \"F\", \"G\", \"H\", \"J\", \"K\", \"L\", \";\"],\n",
    "        [\"Z\", \"X\", \"C\", \"V\", \"B\", \"N\", \"M\", \",\", \".\", \"/\"]]\n",
    "finalText = \"\"\n",
    "\n",
    "keyboard = Controller()"
   ]
  },
  {
   "cell_type": "code",
   "execution_count": 4,
   "metadata": {},
   "outputs": [],
   "source": [
    "def drawAll(img, buttonList):\n",
    "    for button in buttonList:\n",
    "        x, y = button.pos\n",
    "        w, h = button.size\n",
    "        cvzone.cornerRect(img, (button.pos[0], button.pos[1], button.size[0], button.size[1]),\n",
    "                          20, rt=0)\n",
    "        cv2.rectangle(img, button.pos, (x + w, y + h), (255, 0, 255), cv2.FILLED)\n",
    "        cv2.putText(img, button.text, (x + 20, y + 65),\n",
    "                    cv2.FONT_HERSHEY_PLAIN, 4, (255, 255, 255), 4)\n",
    "    return img"
   ]
  },
  {
   "cell_type": "code",
   "execution_count": 5,
   "metadata": {},
   "outputs": [],
   "source": [
    "class Button():\n",
    "    def __init__(self, pos, text, size=[85, 85]):\n",
    "        self.pos = pos\n",
    "        self.size = size\n",
    "        self.text = text\n"
   ]
  },
  {
   "cell_type": "code",
   "execution_count": 6,
   "metadata": {},
   "outputs": [],
   "source": [
    "buttonList = []\n",
    "for i in range(len(keys)):\n",
    "    for j, key in enumerate(keys[i]):\n",
    "        buttonList.append(Button([100 * j + 50, 100 * i + 50], key))"
   ]
  },
  {
   "cell_type": "code",
   "execution_count": 7,
   "metadata": {},
   "outputs": [
    {
     "name": "stdout",
     "output_type": "stream",
     "text": [
      "48.76474136094643\n",
      "54.12947441089744\n",
      "53.71219600798314\n",
      "45.17742799230607\n",
      "48.76474136094643\n",
      "45.79301256742124\n",
      "56.586217403180434\n",
      "57.628118136895644\n",
      "54.203320931470614\n",
      "55.44366510251644\n",
      "58.05170109479997\n",
      "60.4400529450463\n",
      "56.79788728465171\n",
      "51.97114584074512\n",
      "60.166435825965294\n",
      "49.193495504995376\n",
      "44.294469180700204\n",
      "45.221676218380054\n",
      "45.221676218380054\n",
      "31.304951684997057\n",
      "60.4400529450463\n",
      "73.05477397131553\n",
      "77.92945527847606\n",
      "76.21679604916491\n",
      "64.8459713474939\n",
      "75.43208866258443\n",
      "72.73238618387273\n",
      "68.54195795277518\n",
      "68.35202996254024\n",
      "68.6804193347711\n",
      "45.60701700396552\n",
      "49.39635614091387\n",
      "44.77722635447622\n",
      "50.566787519082126\n",
      "46.238512086787566\n",
      "41.10960958218893\n",
      "47.92702786528703\n",
      "38.62641583165593\n",
      "47.41307836451879\n",
      "43.86342439892262\n",
      "50.24937810560445\n",
      "43.382023926967726\n",
      "51.62363799656122\n",
      "50.11985634456667\n",
      "47.41307836451879\n",
      "41.182520563948\n",
      "49.39635614091387\n",
      "47.41307836451879\n",
      "46.95742752749558\n",
      "45.617978911828175\n",
      "47.01063709417264\n",
      "50.6951674225463\n",
      "55.54277630799526\n",
      "54.405882034941776\n",
      "55.00909015790026\n",
      "49.33558553417604\n",
      "45.35416188179427\n",
      "48.33218389437828\n",
      "46.09772228646444\n",
      "45.880278987817846\n",
      "49.39635614091387\n",
      "50.328918128646485\n",
      "47.801673610868484\n",
      "48.83646178829912\n",
      "49.47726750741192\n",
      "47.16990566028302\n",
      "50.695167422546305\n",
      "85.79627031520658\n",
      "107.91200118615167\n",
      "108.63240768757728\n",
      "19.723082923316017\n",
      "16.1245154965971\n",
      "16.492422502470642\n",
      "18.867962264113206\n",
      "17.0\n"
     ]
    }
   ],
   "source": [
    "while True:\n",
    "    success, img = cap.read()\n",
    "    img = detector.findHands(img)\n",
    "    lmList, bboxInfo = detector.findPosition(img)\n",
    "    img = drawAll(img, buttonList)\n",
    "\n",
    "    if lmList:\n",
    "        for button in buttonList:\n",
    "            x, y = button.pos\n",
    "            w, h = button.size\n",
    "\n",
    "            if x < lmList[8][0] < x + w and y < lmList[8][1] < y + h:\n",
    "                cv2.rectangle(img, (x - 5, y - 5), (x + w + 5, y + h + 5), (175, 0, 175), cv2.FILLED)\n",
    "                cv2.putText(img, button.text, (x + 20, y + 65),\n",
    "                            cv2.FONT_HERSHEY_PLAIN, 4, (255, 255, 255), 4)\n",
    "                l, _, _ = detector.findDistance(8, 12, img, draw=False)\n",
    "                print(l)\n",
    "\n",
    "                ## when clicked\n",
    "                if l < 30:\n",
    "                    keyboard.press(button.text)\n",
    "                    cv2.rectangle(img, button.pos, (x + w, y + h), (0, 255, 0), cv2.FILLED)\n",
    "                    cv2.putText(img, button.text, (x + 20, y + 65),\n",
    "                                cv2.FONT_HERSHEY_PLAIN, 4, (255, 255, 255), 4)\n",
    "                    finalText += button.text\n",
    "                    sleep(0.15)\n",
    "\n",
    "    cv2.rectangle(img, (50, 350), (700, 450), (175, 0, 175), cv2.FILLED)\n",
    "    cv2.putText(img, finalText, (60, 430),\n",
    "                cv2.FONT_HERSHEY_PLAIN, 5, (255, 255, 255), 5)\n",
    "\n",
    "    cv2.imshow(\"Image\", img)\n",
    "    cv2.waitKey(1)"
   ]
  },
  {
   "cell_type": "code",
   "execution_count": 1,
   "metadata": {},
   "outputs": [],
   "source": [
    "import math\n",
    "import random\n",
    "import cvzone\n",
    "import cv2\n",
    "import numpy as np\n",
    "from cvzone.HandTrackingModule import HandDetector\n",
    "from time import sleep"
   ]
  },
  {
   "cell_type": "code",
   "execution_count": 2,
   "metadata": {},
   "outputs": [],
   "source": [
    "cap = cv2.VideoCapture(2)\n",
    "cap.set(3, 1280)\n",
    "cap.set(4, 720)\n",
    " \n",
    "detector = HandDetector(detectionCon=0.8, maxHands=1)"
   ]
  },
  {
   "cell_type": "code",
   "execution_count": 3,
   "metadata": {},
   "outputs": [],
   "source": [
    "class SnakeGameClass:\n",
    "    def __init__(self, pathFood):\n",
    "        self.points = []  # all points of the snake\n",
    "        self.lengths = []  # distance between each point\n",
    "        self.currentLength = 0  # total length of the snake\n",
    "        self.allowedLength = 150  # total allowed Length\n",
    "        self.previousHead = 0, 0  # previous head point\n",
    " \n",
    "        self.imgFood = cv2.imread(pathFood)\n",
    "        self.hFood, self.wFood, _ = self.imgFood.shape\n",
    "        self.foodPoint = 0, 0\n",
    "        self.randomFoodLocation()\n",
    " \n",
    "        self.score = 0\n",
    "        self.gameOver = False\n",
    " \n",
    "    def randomFoodLocation(self):\n",
    "        self.foodPoint = random.randint(100, 1000), random.randint(100, 600)\n",
    " \n",
    "    def update(self, imgMain, currentHead):\n",
    " \n",
    "        if self.gameOver:\n",
    "            cvzone.putTextRect(imgMain, \"Game Over\", [300, 400],\n",
    "                               scale=7, thickness=5, offset=20)\n",
    "            cvzone.putTextRect(imgMain, f'Your Score: {self.score}', [300, 550],\n",
    "                               scale=7, thickness=5, offset=20)\n",
    "        else:\n",
    "            px, py = self.previousHead\n",
    "            cx, cy = currentHead\n",
    " \n",
    "            self.points.append([cx, cy])\n",
    "            distance = math.hypot(cx - px, cy - py)\n",
    "            self.lengths.append(distance)\n",
    "            self.currentLength += distance\n",
    "            self.previousHead = cx, cy\n",
    " \n",
    "            # Length Reduction\n",
    "            if self.currentLength > self.allowedLength:\n",
    "                for i, length in enumerate(self.lengths):\n",
    "                    self.currentLength -= length\n",
    "                    self.lengths.pop(i)\n",
    "                    self.points.pop(i)\n",
    "                    if self.currentLength < self.allowedLength:\n",
    "                        break\n",
    " \n",
    "            # Check if snake ate the Food\n",
    "            rx, ry = self.foodPoint\n",
    "            if rx - self.wFood // 2 < cx < rx + self.wFood // 2 and \\\n",
    "                    ry - self.hFood // 2 < cy < ry + self.hFood // 2:\n",
    "                self.randomFoodLocation()\n",
    "                self.allowedLength += 50\n",
    "                self.score += 1\n",
    "                print(self.score)\n",
    " \n",
    "            # Draw Snake\n",
    "            if self.points:\n",
    "                for i, point in enumerate(self.points):\n",
    "                    if i != 0:\n",
    "                        cv2.line(imgMain, self.points[i - 1], self.points[i], (0, 0, 255), 20)\n",
    "                cv2.circle(imgMain, self.points[-1], 20, (0, 255, 0), cv2.FILLED)\n",
    " \n",
    "            # Draw Food\n",
    "            imgMain = cvzone.overlayPNG(imgMain, self.imgFood,\n",
    "                                        (rx - self.wFood // 2, ry - self.hFood // 2))\n",
    " \n",
    "            cvzone.putTextRect(imgMain, f'Score: {self.score}', [50, 80],\n",
    "                               scale=3, thickness=3, offset=10)\n",
    " \n",
    "            # Check for Collision\n",
    "            pts = np.array(self.points[:-2], np.int32)\n",
    "            pts = pts.reshape((-1, 1, 2))\n",
    "            cv2.polylines(imgMain, [pts], False, (0, 255, 0), 3)\n",
    "            minDist = cv2.pointPolygonTest(pts, (cx, cy), True)\n",
    " \n",
    "            if -1 <= minDist <= 1:\n",
    "                print(\"Hit\")\n",
    "                self.gameOver = True\n",
    "                self.points = []  # all points of the snake\n",
    "                self.lengths = []  # distance between each point\n",
    "                self.currentLength = 0  # total length of the snake\n",
    "                self.allowedLength = 150  # total allowed Length\n",
    "                self.previousHead = 0, 0  # previous head point\n",
    "                self.randomFoodLocation()\n",
    " \n",
    "        return imgMain"
   ]
  },
  {
   "cell_type": "code",
   "execution_count": 8,
   "metadata": {},
   "outputs": [
    {
     "name": "stdout",
     "output_type": "stream",
     "text": [
      "(75, 75)\n"
     ]
    },
    {
     "data": {
      "image/png": "[encoded data removed]",
      "text/plain": [
       "<Figure size 432x288 with 1 Axes>"
      ]
     },
     "metadata": {
      "needs_background": "light"
     },
     "output_type": "display_data"
    }
   ],
   "source": [
    "img = cv2.imread(\"Donut.png\")\n",
    "img = cv2.cvtColor(img, cv2.COLOR_RGB2GRAY)\n",
    "img = cv2.flip(img, 1)\n",
    "print(img.shape)\n",
    "\n",
    "import matplotlib.pyplot as plt \n",
    "plt.imshow(img, cmap='gray')\n",
    "plt.show()"
   ]
  },
  {
   "cell_type": "code",
   "execution_count": 9,
   "metadata": {},
   "outputs": [],
   "source": [
    "game = SnakeGameClass(\"./Donut.png\")\n",
    "while True:\n",
    "    success, img = cap.read()\n",
    "    if success:\n",
    "        img = cv2.flip(img, 1)\n",
    "        hands, img = detector.findHands(img)    \n",
    "        if hands:\n",
    "            lmList = hands[0]['lmList']\n",
    "            pointIndex = lmList[8][0:2]\n",
    "            img = game.update(img, pointIndex)\n",
    "        cv2.imshow(\"Image\", img)\n",
    "        key = cv2.waitKey(1)\n",
    "        if key == ord('r'):\n",
    "            game.gameOver = False"
   ]
  },
  {
   "cell_type": "code",
   "execution_count": null,
   "metadata": {},
   "outputs": [],
   "source": []
  }
 ],
 "metadata": {
  "kernelspec": {
   "display_name": "Python 3.9.6 64-bit",
   "language": "python",
   "name": "python3"
  },
  "language_info": {
   "codemirror_mode": {
    "name": "ipython",
    "version": 3
   },
   "file_extension": ".py",
   "mimetype": "text/x-python",
   "name": "python",
   "nbconvert_exporter": "python",
   "pygments_lexer": "ipython3",
   "version": "3.9.6"
  },
  "orig_nbformat": 4,
  "vscode": {
   "interpreter": {
    "hash": "cbc5014ed32a3511c99c810aecedbd8e5a5c878610fa20b4667810c497ccaeea"
   }
  }
 },
 "nbformat": 4,
 "nbformat_minor": 2
}
